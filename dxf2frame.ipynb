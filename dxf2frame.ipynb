{
  "nbformat": 4,
  "nbformat_minor": 0,
  "metadata": {
    "colab": {
      "name": "dxf2frame.ipynb",
      "provenance": [],
      "collapsed_sections": [],
      "toc_visible": true,
      "authorship_tag": "ABX9TyMnvkw63foZLZ73sHOnr46w",
      "include_colab_link": true
    },
    "kernelspec": {
      "name": "python3",
      "display_name": "Python 3"
    }
  },
  "cells": [
    {
      "cell_type": "markdown",
      "metadata": {
        "id": "view-in-github",
        "colab_type": "text"
      },
      "source": [
        "<a href=\"https://colab.research.google.com/github/gaetanocmr/OpenSeesPyTools/blob/master/dxf2frame.ipynb\" target=\"_parent\"><img src=\"https://colab.research.google.com/assets/colab-badge.svg\" alt=\"Open In Colab\"/></a>"
      ]
    },
    {
      "cell_type": "markdown",
      "metadata": {
        "id": "yGRkTAPZk6zR"
      },
      "source": [
        "# A \"simple\" way to import dxf in python for *Openseespy* analysis\n",
        "## Scope:\n",
        "Sometimes you need to define nodes and elements for structures. \n",
        "Defining this object could be challenging, especially in case of 3D structures, or in case of huge number of nodes. <br>\n",
        "In this Colab Notebook I would like to share a \"simple\" way to import a .dxf file and analyze the structure using *Openseespy*.\n",
        "The following frame will be a 2D frame, where all *z coordinates* = 0, but the code could be easily adapted for 3D structures.\n",
        "<hr>\n",
        "\n",
        "## Basic things:\n",
        "* A little python knowledge\n",
        "* Install *ezdxf* module ([learn more](https://ezdxf.mozman.at/))\n",
        "\n",
        "## Steps:\n",
        "* [Install module](#install)\n",
        "* [Import module](#import)\n",
        "* [load .dxf file](#load)\n",
        "* [Query entities](#query)\n",
        "* [A way to read attributes](#attributes)\n",
        "* [Simple way of access to value](#value)\n",
        "* [Structure Analysis with *Openseespy*](#analysis)\n",
        "    * [Extract nodes and connectivity](#extract)\n",
        "    * [Define model in Opensees](#opensees)\n",
        "    * [PlotFrame function](#plotframe)\n",
        "    * [Results](#results)\n",
        "* [Considerations](#considerations)\n",
        "\n",
        "<hr/>\n",
        "\n",
        "#### ezdxf Documentation:\n",
        "Documentation can be found at: https://ezdxf.readthedocs.io/\n",
        "<hr/>\n",
        "\n",
        "**Collabs are appreciated** <br>\n",
        "*Copyright holder: Gaetano Camarda (2020) gaetano.camarda@outlook.com* <br>\n",
        "<font size=\"0.5\">Permission is hereby granted, free of charge, to any person obtaining a copy of this software and associated documentation files (the \"Software\"), to deal in the Software without restriction, including without limitation the rights to use, copy, modify, merge, publish, distribute, sublicense, and/or sell copies of the Software, and to permit persons to whom the Software is furnished to do so, subject to the following conditions: <br>\n",
        "The above copyright notice and this permission notice shall be included in all copies or substantial portions of the Software. <br>\n",
        "THE SOFTWARE IS PROVIDED \"AS IS\", WITHOUT WARRANTY OF ANY KIND, EXPRESS OR IMPLIED, INCLUDING BUT NOT LIMITED TO THE WARRANTIES OF MERCHANTABILITY, FITNESS FOR A PARTICULAR PURPOSE AND NONINFRINGEMENT. IN NO EVENT SHALL THE AUTHORS OR COPYRIGHT HOLDERS BE LIABLE FOR ANY CLAIM, DAMAGES OR OTHER LIABILITY, WHETHER IN AN ACTION OF CONTRACT, TORT OR OTHERWISE, ARISING FROM, OUT OF OR IN CONNECTION WITH THE SOFTWARE OR THE USE OR OTHER DEALINGS IN THE SOFTWARE.</font>\n",
        "\n"
      ]
    },
    {
      "cell_type": "markdown",
      "metadata": {
        "id": "u_PLyXpJnu34"
      },
      "source": [
        "<a id = \"install\" />\n",
        "<hr>\n",
        "\n",
        "#### Install module"
      ]
    },
    {
      "cell_type": "code",
      "metadata": {
        "id": "byPN3ABLk-pc",
        "outputId": "f6047b3d-24f9-42c7-8e9c-5cdf51515a5c",
        "colab": {
          "base_uri": "https://localhost:8080/",
          "height": 50
        }
      },
      "source": [
        "pip install ezdxf"
      ],
      "execution_count": null,
      "outputs": [
        {
          "output_type": "stream",
          "text": [
            "Requirement already satisfied: ezdxf in /usr/local/lib/python3.6/dist-packages (0.13.1)\n",
            "Requirement already satisfied: pyparsing>=2.0.1 in /usr/local/lib/python3.6/dist-packages (from ezdxf) (2.4.7)\n"
          ],
          "name": "stdout"
        }
      ]
    },
    {
      "cell_type": "markdown",
      "metadata": {
        "id": "pH2YyldMoqLH"
      },
      "source": [
        "<a id = \"import\" />\n",
        "<hr/>\n",
        "\n",
        "#### Import module"
      ]
    },
    {
      "cell_type": "code",
      "metadata": {
        "id": "FCiMmITInGfs"
      },
      "source": [
        "import ezdxf"
      ],
      "execution_count": null,
      "outputs": []
    },
    {
      "cell_type": "markdown",
      "metadata": {
        "id": "nmA_tv78pYwS"
      },
      "source": [
        "<a id = \"load\" />\n",
        "<hr/>\n",
        "\n",
        "#### load .dxf:"
      ]
    },
    {
      "cell_type": "code",
      "metadata": {
        "id": "bl_MPjR-pCeS"
      },
      "source": [
        "doc = ezdxf.readfile(\"/content/sample_data/draw.dxf\")\n",
        "msp = doc.modelspace()"
      ],
      "execution_count": null,
      "outputs": []
    },
    {
      "cell_type": "markdown",
      "metadata": {
        "id": "AarquQnkp6yb"
      },
      "source": [
        "<a id = \"query\" />\n",
        "<hr/>\n",
        "\n",
        "#### Query\n",
        "\n",
        "There are many query options ([learn more](https://ezdxf.readthedocs.io/en/stable/tutorials/getting_data.html#entity-queries)). <br/> In this case the .dxf contains only 'LINE', so we will retrieve LINE object and it's start and end point."
      ]
    },
    {
      "cell_type": "code",
      "metadata": {
        "id": "PuaiK4pOptMz",
        "outputId": "2897f705-a01a-4be8-d43b-231409841d0f",
        "colab": {
          "base_uri": "https://localhost:8080/",
          "height": 34
        }
      },
      "source": [
        "lines = msp.query('LINE')\n",
        "type(lines)"
      ],
      "execution_count": null,
      "outputs": [
        {
          "output_type": "execute_result",
          "data": {
            "text/plain": [
              "ezdxf.query.EntityQuery"
            ]
          },
          "metadata": {
            "tags": []
          },
          "execution_count": 4
        }
      ]
    },
    {
      "cell_type": "markdown",
      "metadata": {
        "id": "eYjqP_M5sMsb"
      },
      "source": [
        "<a id = \"attributes\" />\n",
        "<hr/>\n",
        "\n",
        "### A way to read attributes\n",
        "In the following cell is shown a way to retrieve attributes from 'LINE'. <br>\n",
        "A \"save_entity\" method is defined to retrieve start and end point of each line. An empty list \"el\" that will contains all the data is initialized and in the end the for cycle will fullfil the list."
      ]
    },
    {
      "cell_type": "code",
      "metadata": {
        "id": "epNmwN2orWnG"
      },
      "source": [
        "def save_entity(e):\n",
        "    p1 = e.dxf.start\n",
        "    p2 = e.dxf.end\n",
        "    return p1, p2\n",
        "\n",
        "el = [] # el stands for element\n",
        "for e in msp.query('LINE'):\n",
        "    el.append(save_entity(e))"
      ],
      "execution_count": null,
      "outputs": []
    },
    {
      "cell_type": "markdown",
      "metadata": {
        "id": "_gyj7-Pat-Er"
      },
      "source": [
        "<a id = \"value\" />\n",
        "<hr/>\n",
        "\n",
        "### Simple way to access value\n",
        "The information of each line are inside a tuple object (so they are immutable) and they are saved inside the \"el\" list (list are mutable). <br>\n",
        "A simple way to see the data inside the list \"el\" is explained here:\n"
      ]
    },
    {
      "cell_type": "code",
      "metadata": {
        "id": "5-2QkiJEsc8X",
        "outputId": "ac1c5807-c7e1-4fdd-c60e-c25c1f2341cd",
        "colab": {
          "base_uri": "https://localhost:8080/",
          "height": 286
        }
      },
      "source": [
        "for ind, value in enumerate(el):\n",
        "    print(ind, value)"
      ],
      "execution_count": null,
      "outputs": [
        {
          "output_type": "stream",
          "text": [
            "0 (Vector(0.0, 0.0, 0.0), Vector(1e-16, 1.0, 0.0))\n",
            "1 (Vector(1e-16, 1.0, 0.0), Vector(1.0, 1.0, 0.0))\n",
            "2 (Vector(1.0, 1.0, 0.0), Vector(0.9999999999999998, 0.0, 0.0))\n",
            "3 (Vector(1.0, 1.0, 0.0), Vector(2.0, 1.0, 0.0))\n",
            "4 (Vector(2.0, 1.0, 0.0), Vector(1.999999999999999, 0.0, 0.0))\n",
            "5 (Vector(2e-16, 1.0, 0.0), Vector(3e-16, 2.0, 0.0))\n",
            "6 (Vector(3e-16, 2.0, 0.0), Vector(1.0, 2.0, 0.0))\n",
            "7 (Vector(1.0, 2.0, 0.0), Vector(1.0, 1.0, 0.0))\n",
            "8 (Vector(1.0, 2.0, 0.0), Vector(2.0, 2.0, 0.0))\n",
            "9 (Vector(2.0, 2.0, 0.0), Vector(1.999999999999999, 1.0, 0.0))\n",
            "10 (Vector(2.0, 2.0, 0.0), Vector(3.0, 2.0, 0.0))\n",
            "11 (Vector(3.0, 2.0, 0.0), Vector(3.0, 1.0, 0.0))\n",
            "12 (Vector(3.0, 1.0, 0.0), Vector(2.0, 1.0, 0.0))\n",
            "13 (Vector(2.0, 2.0, 0.0), Vector(2.0, 3.0, 0.0))\n",
            "14 (Vector(2.0, 3.0, 0.0), Vector(1.0, 2.0, 0.0))\n",
            "15 (Vector(3.0, 2.0, 0.0), Vector(2.0, 3.0, 0.0))\n"
          ],
          "name": "stdout"
        }
      ]
    },
    {
      "cell_type": "markdown",
      "metadata": {
        "id": "A2oaXxW1u7cF"
      },
      "source": [
        "As you can see, \"el\" contains vectors (tuple) that define 2 points (with x,y,z coordinates) for each line. <br>\n",
        "For example we would like to access to line 3, start point, x coordinate:"
      ]
    },
    {
      "cell_type": "code",
      "metadata": {
        "id": "-qSb7r3Mu6J7",
        "outputId": "d0a0f0d2-b1bf-422b-8ded-bc29d9fdfd27",
        "colab": {
          "base_uri": "https://localhost:8080/",
          "height": 34
        }
      },
      "source": [
        "el[3][1][0]"
      ],
      "execution_count": null,
      "outputs": [
        {
          "output_type": "execute_result",
          "data": {
            "text/plain": [
              "2.0"
            ]
          },
          "metadata": {
            "tags": []
          },
          "execution_count": 7
        }
      ]
    },
    {
      "cell_type": "markdown",
      "metadata": {
        "id": "biC7FJ3Ovs1M"
      },
      "source": [
        "3 = third element of list \"el\" <br>\n",
        "1 = second vector object (end point of the line) <br>\n",
        "0 = x coordinate of the point <br>"
      ]
    },
    {
      "cell_type": "markdown",
      "metadata": {
        "id": "9ph5UVYcz2J1"
      },
      "source": [
        "<a id = \"analysis\" />\n",
        "\n",
        "<hr/>\n",
        "\n",
        "### Structure Analysis with *Openseespy*\n",
        "#### Structure:\n",
        "![Cattura.PNG](data:image/png;base64,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)\n",
        "\n",
        "Each beam of the structure has almost same length. <br>\n",
        "$ L_b = 1 [L] $ <br>\n",
        "$ E = 1  [F/L^2] $ <br>\n",
        "$ A = 1 [L^2] $ <br>\n",
        "$ I_z = 1 [L^4] $ <br>\n",
        "$ Load = -1 [F/L] $ (on element 12)\n"
      ]
    },
    {
      "cell_type": "code",
      "metadata": {
        "id": "J1wT6OzXvpHY",
        "outputId": "faaf34f8-8591-4daf-c0c1-6592fdb76c3a",
        "colab": {
          "base_uri": "https://localhost:8080/",
          "height": 121
        }
      },
      "source": [
        "pip install openseespy"
      ],
      "execution_count": null,
      "outputs": [
        {
          "output_type": "stream",
          "text": [
            "Collecting openseespy\n",
            "\u001b[?25l  Downloading https://files.pythonhosted.org/packages/32/3c/0ec1470ef36fad3a050cb6392d33d7b20b5d33ff7f5f2d71adbfbc34f030/openseespy-3.2.2.3-py3-none-any.whl (34.2MB)\n",
            "\u001b[K     |████████████████████████████████| 34.2MB 121kB/s \n",
            "\u001b[?25hInstalling collected packages: openseespy\n",
            "Successfully installed openseespy-3.2.2.3\n"
          ],
          "name": "stdout"
        }
      ]
    },
    {
      "cell_type": "markdown",
      "metadata": {
        "id": "C-tEW0Ie6IKY"
      },
      "source": [
        "<a id = \"extract\" />\n",
        "<hr/>\n",
        "\n",
        "### Extract nodes and connectivity\n",
        "The following section will show a way to extract nodes and connectivity needed in openseespy framework"
      ]
    },
    {
      "cell_type": "code",
      "metadata": {
        "id": "Abq3hhr32awe"
      },
      "source": [
        "# Copyright Gaetano Camarda\n",
        "# 2020 V_1\n",
        "# gaetano.camarda@outlook.com\n",
        "\n",
        "# Define Nodes\n",
        "def node_extract(el, length): \n",
        "    nodes = []\n",
        "    for i in range(length):\n",
        "        nodes.append(el[i][0])\n",
        "        nodes.append(el[i][1])\n",
        "    return nodes\n",
        "\n",
        "def removeDuplicates(nodes): \n",
        "    return [t for t in (set(tuple(i) for i in nodes))]\n",
        "\n",
        "el_new = []\n",
        "for i, value in enumerate(el): # Round nodes values\n",
        "    tmp = [[round(ezdxf.math.xround(value[0][0], 0.001),2), \\\n",
        "            round(ezdxf.math.xround(value[0][1], 0.001),2), \\\n",
        "            round(ezdxf.math.xround(value[0][2], 0.001),2)], \\\n",
        "           [round(ezdxf.math.xround(value[1][0], 0.001),2), \\\n",
        "            round(ezdxf.math.xround(value[1][1], 0.001),2), \\\n",
        "            round(ezdxf.math.xround(value[1][2], 0.001),2)]]\n",
        "    el_new.append(tmp)\n",
        "\n",
        "def connectivity(el_new, nodes):\n",
        "    c = []\n",
        "    d = []\n",
        "    for i in range(len(el_new)):\n",
        "        for j in range(len(nodes)):\n",
        "            if el_new[i][1] == list(nodes[j]):\n",
        "                c.append(j)\n",
        "            elif el_new[i][0] == list(nodes[j]):\n",
        "                d.append(j)\n",
        "    return c, d\n",
        "\n",
        "nodes = removeDuplicates(node_extract(el_new, len(el_new))) # Define nodelist for Openseespy <----\n",
        "connect = connectivity(el_new, nodes) # Define connectivity for each element <----"
      ],
      "execution_count": null,
      "outputs": []
    },
    {
      "cell_type": "markdown",
      "metadata": {
        "id": "BLsAykDR6xm0"
      },
      "source": [
        "<a id = \"opensees\" />\n",
        "<hr/>\n",
        "\n",
        "### Define model in Opensees"
      ]
    },
    {
      "cell_type": "code",
      "metadata": {
        "id": "Mspjrpg82O-R",
        "outputId": "af9e0e26-fbba-4a66-cfd2-2cb9110885a8",
        "colab": {
          "base_uri": "https://localhost:8080/",
          "height": 823
        }
      },
      "source": [
        "import openseespy.postprocessing.Get_Rendering as rend\n",
        "import openseespy.opensees as ops\n",
        "\n",
        "# remove existing model\n",
        "ops.wipe()\n",
        "\n",
        "# set modelbuilder\n",
        "ops.model('basic', '-ndm', 2, '-ndf', 3)\n",
        "\n",
        "# Define node in Openseespy\n",
        "for i, value in enumerate(nodes):\n",
        "    ops.node(i, value[0], value[1])\n",
        "ops.printModel('-node')"
      ],
      "execution_count": null,
      "outputs": [
        {
          "output_type": "stream",
          "text": [
            "\n",
            " Node: 0\n",
            "\tCoordinates  : 3 2 \n",
            "\n",
            "\n",
            " Node: 1\n",
            "\tCoordinates  : 1 1 \n",
            "\n",
            "\n",
            " Node: 2\n",
            "\tCoordinates  : 0 2 \n",
            "\n",
            "\n",
            " Node: 3\n",
            "\tCoordinates  : 2 1 \n",
            "\n",
            "\n",
            " Node: 4\n",
            "\tCoordinates  : 1 2 \n",
            "\n",
            "\n",
            " Node: 5\n",
            "\tCoordinates  : 1 0 \n",
            "\n",
            "\n",
            " Node: 6\n",
            "\tCoordinates  : 3 1 \n",
            "\n",
            "\n",
            " Node: 7\n",
            "\tCoordinates  : 2 2 \n",
            "\n",
            "\n",
            " Node: 8\n",
            "\tCoordinates  : 0 0 \n",
            "\n",
            "\n",
            " Node: 9\n",
            "\tCoordinates  : 2 3 \n",
            "\n",
            "\n",
            " Node: 10\n",
            "\tCoordinates  : 0 1 \n",
            "\n",
            "\n",
            " Node: 11\n",
            "\tCoordinates  : 2 0 \n",
            "\n"
          ],
          "name": "stderr"
        }
      ]
    },
    {
      "cell_type": "markdown",
      "metadata": {
        "id": "Ib3spoh87x-J"
      },
      "source": [
        "<a id = \"plotframe\" />\n",
        "<hr/>\n",
        "\n",
        "### PlotFrame function\n",
        "This function will help in choosing nodes to constrain and elements to load, showing nodes and elements label."
      ]
    },
    {
      "cell_type": "code",
      "metadata": {
        "id": "tfBD3w7LeLrj"
      },
      "source": [
        "# Copyright of the following function Gaetano Camarda\n",
        "# 2020 V_1\n",
        "# gaetano.camarda@outlook.com\n",
        "\n",
        "import matplotlib.pyplot as plt\n",
        "% matplotlib inline\n",
        "def PlotFrame(nodematrix,elementmatrix,displacement = None,scale = 1):\n",
        "    plt.style.use('classic')\n",
        "    if displacement is None:\n",
        "        plt.figure()\n",
        "        for i in range(len(elementmatrix[0])):\n",
        "            nodoi = elementmatrix[0][i]\n",
        "            nodoj = elementmatrix[1][i]\n",
        "            xx = (nodematrix[nodoi][0],nodematrix[nodoj][0])\n",
        "            yy = (nodematrix[nodoi][1],nodematrix[nodoj][1])\n",
        "            plt.text(nodematrix[nodoi][0], nodematrix[nodoi][1], nodoi)\n",
        "            plt.text(nodematrix[nodoj][0], nodematrix[nodoj][1], nodoj)\n",
        "            plt.text((nodematrix[nodoi][0]+nodematrix[nodoj][0])/2, (nodematrix[nodoi][1]+nodematrix[nodoj][1])/2, i, bbox=dict(facecolor='green', alpha=0.2))\n",
        "            plt.plot(xx, yy,'-k');\n",
        "    elif displacement is not None:\n",
        "            nodematrix_update = []\n",
        "            plt.figure()\n",
        "            for i in range(len(elementmatrix[0])):\n",
        "                nodoi = elementmatrix[0][i]\n",
        "                nodoj = elementmatrix[1][i]\n",
        "                xx = (nodematrix[nodoi][0],nodematrix[nodoj][0])\n",
        "                yy = (nodematrix[nodoi][1],nodematrix[nodoj][1])\n",
        "                plt.text(nodematrix[nodoi][0], nodematrix[nodoi][1], nodoi)\n",
        "                plt.text(nodematrix[nodoj][0], nodematrix[nodoj][1], nodoj)\n",
        "                plt.text((nodematrix[nodoi][0]+nodematrix[nodoj][0])/2, (nodematrix[nodoi][1]+nodematrix[nodoj][1])/2, i,bbox=dict(facecolor='green', alpha=0.2))\n",
        "                plt.plot(xx, yy,'-k');\n",
        "            txt = ('Node Displacement (Scale_factor: ' + str(scale) + ')')\n",
        "            plt.title(txt)\n",
        "            for i in range(len(nodematrix)):\n",
        "                nodematrix_update.append([nodematrix[i][0]+displacement[i][0]*scale,nodematrix[i][1]+displacement[i][1]*scale])\n",
        "            for i in range(len(elementmatrix[0])):\n",
        "                nodoi = elementmatrix[0][i]\n",
        "                nodoj = elementmatrix[1][i]\n",
        "                xx = (nodematrix_update[nodoi][0],nodematrix_update[nodoj][0])\n",
        "                yy = (nodematrix_update[nodoi][1],nodematrix_update[nodoj][1])\n",
        "                plt.plot(xx, yy,'-r');"
      ],
      "execution_count": null,
      "outputs": []
    },
    {
      "cell_type": "code",
      "metadata": {
        "id": "wmrUUhhti3a3",
        "outputId": "29dd4d10-1e58-4e01-aa4e-a485b7436a6c",
        "colab": {
          "base_uri": "https://localhost:8080/",
          "height": 444
        }
      },
      "source": [
        "PlotFrame(list(nodes), connect)"
      ],
      "execution_count": null,
      "outputs": [
        {
          "output_type": "display_data",
          "data": {
            "image/png": "[encoded data removed]",
            "text/plain": [
              "<Figure size 640x480 with 1 Axes>"
            ]
          },
          "metadata": {
            "tags": []
          }
        }
      ]
    },
    {
      "cell_type": "markdown",
      "metadata": {
        "id": "nIkDOslD8UGN"
      },
      "source": [
        "<a id = \"results\" />\n",
        "<hr/>\n",
        "\n",
        "### Results\n",
        "Following cells will show the rest of analysis and the results expressed in nodes displacement."
      ]
    },
    {
      "cell_type": "code",
      "metadata": {
        "id": "BQiK6pwz35-q"
      },
      "source": [
        "ops.fix(8,1,1,1)\n",
        "ops.fix(5,1,1,1)\n",
        "ops.fix(11,1,1,1)"
      ],
      "execution_count": null,
      "outputs": []
    },
    {
      "cell_type": "code",
      "metadata": {
        "id": "s8BMbnuRJhU8"
      },
      "source": [
        "# Define Materials\n",
        "Elastic_modulus = 1\n",
        "acciaio = 1 \n",
        "Iz = 1\n",
        "A = 1\n",
        "ops.uniaxialMaterial('Elastic',acciaio,Elastic_modulus)\n",
        "IDTransf = 1\n",
        "ops.geomTransf('Linear',IDTransf)"
      ],
      "execution_count": null,
      "outputs": []
    },
    {
      "cell_type": "code",
      "metadata": {
        "id": "lttu0ZtSNXeJ"
      },
      "source": [
        "for i in range(len(el_new)):\n",
        "    ops.element('elasticBeamColumn',i,connect[0][i],connect[1][i],A,Elastic_modulus,Iz,IDTransf )"
      ],
      "execution_count": null,
      "outputs": []
    },
    {
      "cell_type": "code",
      "metadata": {
        "id": "mKc-e0ZrfOCa"
      },
      "source": [
        "ops.timeSeries('Linear',1)\n",
        "ops.pattern('Plain', 1, 1)\n",
        "ops.eleLoad('-ele',12,'-type','-beamUniform',-1.0,0.0)"
      ],
      "execution_count": null,
      "outputs": []
    },
    {
      "cell_type": "code",
      "metadata": {
        "id": "vUJpj-Akf622",
        "outputId": "12e826fe-b42c-4692-e89b-7fc7216af938",
        "colab": {
          "base_uri": "https://localhost:8080/",
          "height": 34
        }
      },
      "source": [
        "ops.system('BandSPD')\n",
        "ops.constraints('Plain')\n",
        "ops.numberer('Plain')\n",
        "ops.test('NormDispIncr', 1.0e-3, 6)\n",
        "ops.algorithm('Linear')\n",
        "ops.integrator('LoadControl', 1)\n",
        "ops.analysis('Static')\n",
        "\n",
        "# Run Analysis\n",
        "ops.analyze(1)"
      ],
      "execution_count": null,
      "outputs": [
        {
          "output_type": "execute_result",
          "data": {
            "text/plain": [
              "0"
            ]
          },
          "metadata": {
            "tags": []
          },
          "execution_count": 17
        }
      ]
    },
    {
      "cell_type": "code",
      "metadata": {
        "id": "65_j9Z5Ug3J2",
        "outputId": "206d748a-366f-4988-edfa-a8d3b1bf8b78",
        "colab": {
          "base_uri": "https://localhost:8080/",
          "height": 235
        }
      },
      "source": [
        "# Save a recorder for node displacements before running the analysis\n",
        "displacement = []\n",
        "for i in range(len(nodes)):\n",
        "    displacement.append(ops.nodeDisp(i)) \n",
        "print(' ' * 20 ,'NODE DISPLACEMENT:')\n",
        "for i, value in enumerate(displacement):\n",
        "    print(i, value)"
      ],
      "execution_count": null,
      "outputs": [
        {
          "output_type": "stream",
          "text": [
            "                     NODE DISPLACEMENT:\n",
            "0 [0.5230091399878609, -1.044389262983219, -0.3733635287340604]\n",
            "1 [0.14895640023871023, -0.3050189105616977, -0.29082770162470417]\n",
            "2 [0.3964154053159837, -0.022721330698007382, -0.29885430465626245]\n",
            "3 [0.16752781090188257, -0.6564937161348496, -0.35797281863696806]\n",
            "4 [0.4669642104039088, -0.33939669172452086, -0.33712409116434017]\n",
            "5 [0.0, 0.0, 0.0]\n",
            "6 [0.12588666781577143, -1.0874677234746188, -0.4278216061244702]\n",
            "7 [0.5132720822070772, -0.6809604380688838, -0.3463974951817436]\n",
            "8 [0.0, 0.0, 0.0]\n",
            "9 [0.8610910948608979, -0.6604828425815709, -0.3560271656638227]\n",
            "10 [0.1245126174437176, -0.03848737330346155, -0.23319313690694882]\n",
            "11 [0.0, 0.0, 0.0]\n"
          ],
          "name": "stdout"
        }
      ]
    },
    {
      "cell_type": "code",
      "metadata": {
        "id": "lpukpn63Yfp0",
        "outputId": "72381cc1-bf31-4d0b-80d4-838e1711f580",
        "colab": {
          "base_uri": "https://localhost:8080/",
          "height": 452
        }
      },
      "source": [
        "PlotFrame(list(nodes), connect, displacement, 0.2)"
      ],
      "execution_count": null,
      "outputs": [
        {
          "output_type": "display_data",
          "data": {
            "image/png": "[encoded data removed]",
            "text/plain": [
              "<Figure size 640x480 with 1 Axes>"
            ]
          },
          "metadata": {
            "tags": []
          }
        }
      ]
    },
    {
      "cell_type": "markdown",
      "metadata": {
        "id": "T8X_Rdks8s7m"
      },
      "source": [
        "<a id = \"considerations\" />\n",
        "<hr/>\n",
        "\n",
        "### Considerations\n",
        "This *Colab Notebook* shows a \"simple\" way to import a structure from a .dxf file and analyze it using *Openseespy framework*. <br>\n",
        "I usually have problems in defining nodes and elements manually, I find this way more easy to implement. <br>\n",
        "N.B. Nodes information include *z* coordinate, so is it possible to adapt the code for 3D structures."
      ]
    }
  ]
}